{
 "cells": [
  {
   "cell_type": "code",
   "execution_count": 1,
   "metadata": {},
   "outputs": [
    {
     "name": "stdout",
     "output_type": "stream",
     "text": [
      "Input\tOutput\n",
      "[0 0]\t0\n",
      "[0 1]\t1\n",
      "[1 0]\t1\n",
      "[1 1]\t0\n"
     ]
    }
   ],
   "source": [
    "import numpy as np\n",
    "\n",
    "def step_function(x):\n",
    "    return 1 if x >= 0 else 0\n",
    "\n",
    "# XOR Dataset\n",
    "X = np.array([[0, 0], [0, 1], [1, 0], [1, 1]])\n",
    "Y = np.array([0, 1, 1, 0])  # Expected output for XOR\n",
    "\n",
    "# Manually chosen weights for XOR solution\n",
    "# Hidden Layer: 2 neurons, Output Layer: 1 neuron\n",
    "hidden_weights = np.array([[1, 1], [1, 1]])  # Weights for hidden layer\n",
    "hidden_bias = np.array([-1.5, -0.5])         # Bias for hidden layer\n",
    "output_weights = np.array([-1, 1])           # Weights for output layer\n",
    "output_bias = -0.5                           # Bias for output layer\n",
    "\n",
    "def perceptron_forward(inputs, weights, bias):\n",
    "    return step_function(np.dot(weights, inputs) + bias)\n",
    "\n",
    "def mlp_xor_predict(x):\n",
    "    # Compute hidden layer output\n",
    "    hidden_output = np.array([perceptron_forward(x, hidden_weights[i], hidden_bias[i]) for i in range(2)])\n",
    "    \n",
    "    # Compute final output\n",
    "    output = perceptron_forward(hidden_output, output_weights, output_bias)\n",
    "    \n",
    "    return output\n",
    "\n",
    "# Testing the MLP for XOR function\n",
    "predictions = [mlp_xor_predict(x) for x in X]\n",
    "\n",
    "print(\"Input\\tOutput\")\n",
    "for i in range(len(X)):\n",
    "    print(f\"{X[i]}\\t{predictions[i]}\")\n"
   ]
  },
  {
   "cell_type": "code",
   "execution_count": null,
   "metadata": {},
   "outputs": [],
   "source": []
  }
 ],
 "metadata": {
  "kernelspec": {
   "display_name": "Python 3",
   "language": "python",
   "name": "python3"
  },
  "language_info": {
   "codemirror_mode": {
    "name": "ipython",
    "version": 3
   },
   "file_extension": ".py",
   "mimetype": "text/x-python",
   "name": "python",
   "nbconvert_exporter": "python",
   "pygments_lexer": "ipython3",
   "version": "3.12.3"
  }
 },
 "nbformat": 4,
 "nbformat_minor": 2
}
