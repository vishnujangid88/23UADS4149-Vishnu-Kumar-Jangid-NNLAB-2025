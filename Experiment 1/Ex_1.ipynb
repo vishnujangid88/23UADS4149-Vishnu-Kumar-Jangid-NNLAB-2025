{
 "cells": [
  {
   "cell_type": "code",
   "execution_count": 1,
   "metadata": {},
   "outputs": [
    {
     "name": "stdout",
     "output_type": "stream",
     "text": [
      "Training Perceptron for NAND Gate\n",
      "NAND Perceptron Accuracy: 1.0\n",
      "Predictions for NAND Truth Table:\n",
      "Input: [0 0], Prediction: 1\n",
      "Input: [0 1], Prediction: 1\n",
      "Input: [1 0], Prediction: 1\n",
      "Input: [1 1], Prediction: 0\n",
      "\n",
      "Training Perceptron for XOR Gate\n",
      "XOR Perceptron Accuracy: 0.5\n",
      "Predictions for XOR Truth Table:\n",
      "Input: [0 0], Prediction: 1\n",
      "Input: [0 1], Prediction: 1\n",
      "Input: [1 0], Prediction: 0\n",
      "Input: [1 1], Prediction: 0\n"
     ]
    }
   ],
   "source": [
    "import numpy as np\n",
    "\n",
    "class Perceptron:\n",
    "    def __init__(self, input_size, learning_rate=0.1, epochs=1000):\n",
    "        # Initialize weights and bias\n",
    "        self.weights = np.zeros(input_size)\n",
    "        self.bias = 0.0\n",
    "        self.learning_rate = learning_rate\n",
    "        self.epochs = epochs\n",
    "\n",
    "    def activation_function(self, x):\n",
    "        # Step activation function\n",
    "        return 1 if x >= 0 else 0\n",
    "\n",
    "    def predict(self, inputs):\n",
    "        linear_output = np.dot(inputs, self.weights) + self.bias\n",
    "        return self.activation_function(linear_output)\n",
    "\n",
    "    def train(self, X, y):\n",
    "        for epoch in range(self.epochs):\n",
    "            for i in range(len(X)):\n",
    "                prediction = self.predict(X[i])\n",
    "                error = y[i] - prediction\n",
    "\n",
    "                # Update weights and bias\n",
    "                self.weights += self.learning_rate * error * X[i]\n",
    "                self.bias += self.learning_rate * error\n",
    "\n",
    "    def evaluate(self, X, y):\n",
    "        correct_predictions = sum(self.predict(x) == y_true for x, y_true in zip(X, y))\n",
    "        accuracy = correct_predictions / len(y)\n",
    "        return accuracy\n",
    "\n",
    "# NAND Truth Table (inputs and labels)\n",
    "nand_X = np.array([[0, 0], [0, 1], [1, 0], [1, 1]])\n",
    "nand_y = np.array([1, 1, 1, 0])  # NAND output\n",
    "\n",
    "# XOR Truth Table (inputs and labels)\n",
    "xor_X = np.array([[0, 0], [0, 1], [1, 0], [1, 1]])\n",
    "xor_y = np.array([0, 1, 1, 0])  # XOR output\n",
    "\n",
    "# Training and evaluation for NAND Gate\n",
    "print(\"Training Perceptron for NAND Gate\")\n",
    "nand_perceptron = Perceptron(input_size=2)\n",
    "nand_perceptron.train(nand_X, nand_y)\n",
    "nand_accuracy = nand_perceptron.evaluate(nand_X, nand_y)\n",
    "print(\"NAND Perceptron Accuracy:\", nand_accuracy)\n",
    "print(\"Predictions for NAND Truth Table:\")\n",
    "for x in nand_X:\n",
    "    print(f\"Input: {x}, Prediction: {nand_perceptron.predict(x)}\")\n",
    "\n",
    "# Training and evaluation for XOR Gate\n",
    "print(\"\\nTraining Perceptron for XOR Gate\")\n",
    "xor_perceptron = Perceptron(input_size=2)\n",
    "xor_perceptron.train(xor_X, xor_y)\n",
    "xor_accuracy = xor_perceptron.evaluate(xor_X, xor_y)\n",
    "print(\"XOR Perceptron Accuracy:\", xor_accuracy)\n",
    "print(\"Predictions for XOR Truth Table:\")\n",
    "for x in xor_X:\n",
    "    print(f\"Input: {x}, Prediction: {xor_perceptron.predict(x)}\")\n",
    "\n",
    "# Note: The perceptron will not be able to learn XOR perfectly\n",
    "# because XOR is not linearly separable.\n",
    "# print(\"\\nNOTE: The XOR gate cannot be solved by a single-layer perceptron.\")"
   ]
  },
  {
   "cell_type": "code",
   "execution_count": null,
   "metadata": {},
   "outputs": [],
   "source": []
  }
 ],
 "metadata": {
  "kernelspec": {
   "display_name": "Python 3",
   "language": "python",
   "name": "python3"
  },
  "language_info": {
   "codemirror_mode": {
    "name": "ipython",
    "version": 3
   },
   "file_extension": ".py",
   "mimetype": "text/x-python",
   "name": "python",
   "nbconvert_exporter": "python",
   "pygments_lexer": "ipython3",
   "version": "3.12.3"
  }
 },
 "nbformat": 4,
 "nbformat_minor": 2
}
