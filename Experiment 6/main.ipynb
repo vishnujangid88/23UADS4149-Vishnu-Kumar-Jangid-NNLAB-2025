### 🎯 Objective\nWrite a Python program to train and evaluate a Recurrent Neural Network (RNN) using the PyTorch library to predict the next value in a stock time series dataset.
